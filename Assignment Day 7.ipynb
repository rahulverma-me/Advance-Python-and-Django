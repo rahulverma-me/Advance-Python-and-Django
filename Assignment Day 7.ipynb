{
 "cells": [
  {
   "cell_type": "code",
   "execution_count": null,
   "metadata": {},
   "outputs": [],
   "source": [
    "def sortmerge(lst): \n",
    "\n",
    "    length = len(lst) \n",
    "\n",
    "    j = 0\n",
    "    while j < length - 1:\n",
    "        if (lst[j] > lst[j + 1]):\n",
    "            temp = lst[j]\n",
    "            lst[j] = lst[j + 1]\n",
    "            lst[j + 1] = temp\n",
    "            j = -1\n",
    "        j += 1\n",
    "    return lst "
   ]
  },
  {
   "cell_type": "code",
   "execution_count": 14,
   "metadata": {},
   "outputs": [],
   "source": [
    "merge_list = list1+list2\n",
    "list1=[10,20,30,40,50]\n",
    "list2=[5,15,25,35,45,60]"
   ]
  },
  {
   "cell_type": "code",
   "execution_count": 16,
   "metadata": {},
   "outputs": [
    {
     "data": {
      "text/plain": [
       "[5, 10, 15, 20, 25, 30, 35, 40, 45, 50, 60]"
      ]
     },
     "execution_count": 16,
     "metadata": {},
     "output_type": "execute_result"
    }
   ],
   "source": [
    "sortmerge(merge_list)"
   ]
  },
  {
   "cell_type": "code",
   "execution_count": null,
   "metadata": {},
   "outputs": [],
   "source": []
  }
 ],
 "metadata": {
  "kernelspec": {
   "display_name": "Python 3",
   "language": "python",
   "name": "python3"
  },
  "language_info": {
   "codemirror_mode": {
    "name": "ipython",
    "version": 3
   },
   "file_extension": ".py",
   "mimetype": "text/x-python",
   "name": "python",
   "nbconvert_exporter": "python",
   "pygments_lexer": "ipython3",
   "version": "3.8.3"
  }
 },
 "nbformat": 4,
 "nbformat_minor": 4
}
